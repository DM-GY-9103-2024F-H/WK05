{
  "cells": [
    {
      "cell_type": "markdown",
      "metadata": {
        "id": "QshK8s21WBrf"
      },
      "source": [
        "# Week 04\n",
        "## Images"
      ]
    },
    {
      "cell_type": "markdown",
      "metadata": {
        "id": "7Hf8SXUwWOho"
      },
      "source": [
        "### Setup\n",
        "\n",
        "Run the following 2 cells to import all necessary libraries and helpers for this week's exercises"
      ]
    },
    {
      "cell_type": "code",
      "execution_count": null,
      "metadata": {},
      "outputs": [],
      "source": [
        "!wget -q https://github.com/DM-GY-9103-2024F-H/9103-utils/raw/main/src/io_utils.py"
      ]
    },
    {
      "cell_type": "code",
      "execution_count": null,
      "metadata": {},
      "outputs": [],
      "source": [
        "import matplotlib.pyplot as plt\n",
        "import random\n",
        "\n",
        "from PIL import Image\n",
        "\n",
        "from io_utils import get_pixels, get_Image\n",
        "from io_utils import blur, edges"
      ]
    },
    {
      "cell_type": "markdown",
      "metadata": {},
      "source": [
        "## Images as lists of lists of pixels\n",
        "\n",
        "Just a quick review of how images are usually represented and stored in files and memory.\n",
        "\n",
        "An image:<br>\n",
        "<img src=\"./imgs/pixel-00.jpg\" height=\"250px\">\n",
        "\n",
        "is a collection of rows:<br>\n",
        "<img src=\"./imgs/pixel-01.jpg\" height=\"250px\">\n",
        "\n",
        "which are collections of pixels:<br>\n",
        "<img src=\"./imgs/pixel-03.jpg\" height=\"250px\">\n",
        "\n",
        "which are lists of color values:<br>\n",
        "<img src=\"./imgs/pixel-04.jpg\" height=\"250px\">\n",
        "\n"
      ]
    },
    {
      "cell_type": "markdown",
      "metadata": {},
      "source": [
        "### Loading image files\n",
        "\n",
        "We can use the `Image` object from the [PIL](https://pillow.readthedocs.io/en/stable/) library to open image files.\n",
        "\n",
        "It's as simple as doing:"
      ]
    },
    {
      "cell_type": "code",
      "execution_count": null,
      "metadata": {
        "id": "L66UbgCWGDjF",
        "tags": []
      },
      "outputs": [],
      "source": [
        "mimg = Image.open(\"./data/hog.jpg\")"
      ]
    },
    {
      "cell_type": "markdown",
      "metadata": {},
      "source": [
        "Now `mimg` is an image object and we can get some information about our image directly from this object.\n",
        "\n",
        "### Image properties\n",
        "\n",
        "<img src=\"./imgs/image-00.jpg\" width=\"720px\">\n",
        "\n",
        "For example, to get its dimensions, in pixels, we can access its `size` variable, which holds $2$ values:"
      ]
    },
    {
      "cell_type": "code",
      "execution_count": null,
      "metadata": {},
      "outputs": [],
      "source": [
        "image_width, image_height = mimg.size\n",
        "\n",
        "print(image_width, \"x\", image_height)\n",
        "print(\"total number of pixels:\", image_width * image_height)"
      ]
    },
    {
      "cell_type": "markdown",
      "metadata": {},
      "source": [
        "And, to get the number of channels we can call its `getbands()` function:"
      ]
    },
    {
      "cell_type": "code",
      "execution_count": null,
      "metadata": {},
      "outputs": [],
      "source": [
        "channel_count = len(mimg.getbands())\n",
        "\n",
        "print(channel_count, \"channels\")"
      ]
    },
    {
      "cell_type": "markdown",
      "metadata": {},
      "source": [
        "### Get info for another image\n",
        "\n",
        "Either upload a different image to the notebook, or open up the `data/flowers.jpg` image and print out its width, height, total number of pixels and number of channels."
      ]
    },
    {
      "cell_type": "code",
      "execution_count": null,
      "metadata": {},
      "outputs": [],
      "source": [
        "# TODO: open another image and print its properties"
      ]
    },
    {
      "cell_type": "markdown",
      "metadata": {},
      "source": [
        "### About channels\n",
        "\n",
        "Grayscale images have $1$ channel: each pixel holds a value between $0$ and $255$ that represents how bright that pixels is.\n",
        "\n",
        "RGB images have $3$ channels: each pixel is represented by $3$ values, one for each of the colors red, green and blue.\n",
        "\n",
        "RGBA images have $4$ channels: each pixel has $3$ values for its RGB components, plus an extra one for transparency.\n",
        "\n",
        "<img src=\"./imgs/image-01.jpg\" width=\"720px\">\n",
        "\n",
        "This is important because when we get the list of pixels for an image we need to know what to expect from each of the list's members."
      ]
    },
    {
      "cell_type": "markdown",
      "metadata": {},
      "source": [
        "### Visualize the image\n",
        "\n",
        "We can just call the built-in jupyter function `display()`"
      ]
    },
    {
      "cell_type": "code",
      "execution_count": null,
      "metadata": {},
      "outputs": [],
      "source": [
        "display(mimg)"
      ]
    },
    {
      "cell_type": "markdown",
      "metadata": {},
      "source": [
        "### Display the other image here"
      ]
    },
    {
      "cell_type": "code",
      "execution_count": null,
      "metadata": {},
      "outputs": [],
      "source": [
        "# TODO: display the second image"
      ]
    },
    {
      "cell_type": "markdown",
      "metadata": {},
      "source": [
        "### Getting pixel color lists\n",
        "\n",
        "We can also easily get a list of all the pixel color values by calling the object's `getdata()` member function and turning the result into a `list`.\n",
        "\n",
        "This list has $width \\times height$ elements, one for each pixel on the image, and when working with RGB images, each pixel element will have $3$ values.\n",
        "\n",
        "We can take a look at some pixel values, and check that the length of the pixel array is equal to the $width$ of the image times its $height$."
      ]
    },
    {
      "cell_type": "code",
      "execution_count": null,
      "metadata": {},
      "outputs": [],
      "source": [
        "img_pixels = list(mimg.getdata())\n",
        "\n",
        "print(mimg.size, len(img_pixels))\n",
        "print(img_pixels[:5])"
      ]
    },
    {
      "cell_type": "markdown",
      "metadata": {},
      "source": [
        "Even though we view our images as two-dimensional arrangements of colors, in memory and in files, they're just long lists of numbers.\n",
        "\n",
        "<img src=\"./imgs/image-02.jpg\" width=\"720px\">\n",
        "\n",
        "And, just like with audio files, we can create or manipulate these numeric lists before viewing them as images."
      ]
    },
    {
      "cell_type": "markdown",
      "metadata": {},
      "source": [
        "### Creating images from pixel color lists\n",
        "\n",
        "This is a bit trickier.\n",
        "\n",
        "We first have to create an empty image with a given size and specific number of channels, and then pass a list of pixel values to fill it:"
      ]
    },
    {
      "cell_type": "code",
      "execution_count": null,
      "metadata": {},
      "outputs": [],
      "source": [
        "# This creates an empty grayscale image with size 400 x 400\n",
        "rimg = Image.new(\"L\", (400, 400))\n",
        "\n",
        "# This fills a list with 400 * 400 random values between 0 and 255\n",
        "rpix_vals = []\n",
        "for i in range(400 * 400):\n",
        "  rpix_vals.append(random.randint(0, 255))\n",
        "\n",
        "# This puts the pixel values into the image object, so we can visualize it\n",
        "rimg.putdata(rpix_vals)\n",
        "display(rimg)"
      ]
    },
    {
      "cell_type": "markdown",
      "metadata": {},
      "source": [
        "### A RGB example"
      ]
    },
    {
      "cell_type": "code",
      "execution_count": null,
      "metadata": {},
      "outputs": [],
      "source": [
        "# This creates an empty, 3-channel, RGB image with size 400 x 400\n",
        "rimg = Image.new(\"RGB\", (400, 400))\n",
        "\n",
        "# This fills a list with 400 * 400 random RGB values\n",
        "rpix_vals = []\n",
        "for i in range(400 * 400):\n",
        "  r = random.randint(0, 255)\n",
        "  g = random.randint(0, 255)\n",
        "  b = random.randint(0, 255)\n",
        "  rpix_vals.append((r, g, b))\n",
        "\n",
        "# This puts the pixel values into the image object, so we can visualize it\n",
        "rimg.putdata(rpix_vals)\n",
        "display(rimg)"
      ]
    },
    {
      "cell_type": "markdown",
      "metadata": {},
      "source": [
        "## 😵‍💫😖\n",
        "\n",
        "And, just like with audio files and sample lists, it's kind of annoying to always be turning pixels into images and images into pixels like this.\n",
        "\n",
        "Additionally, if the content of the pixel list passed to the function doesn't match the expected number of pixels or channels, the conversion will fail.\n",
        "\n",
        "Luckily, we can use some helper functions to make this easier."
      ]
    },
    {
      "cell_type": "markdown",
      "metadata": {},
      "source": [
        "### To get pixel lists:\n",
        "`get_pixels()` : returns a list of pixel color values when given an `Image` object or the path to an image file."
      ]
    },
    {
      "cell_type": "markdown",
      "metadata": {},
      "source": [
        "### To get `Image` objects:\n",
        "`get_Image(filepath)` : returns an `Image` object from the given file path.\n",
        "\n",
        "`get_Image(pixels, width, height)` : returns an `Image` object with size `width` $\\times$ `height` created from the values in the `pixels` list.\n",
        "\n",
        "We always have to specify at least the `width` value when creating an image from a pixel array, or else if the function gets a list of $240000$ pixels it won't know if we want an image that's $600 \\times 400$ or $400 \\times 600$."
      ]
    },
    {
      "cell_type": "code",
      "execution_count": null,
      "metadata": {},
      "outputs": [],
      "source": [
        "mimg = get_Image(\"./data/hog.jpg\")\n",
        "mpxs = get_pixels(mimg)\n",
        "\n",
        "print(\"image size:\", mimg.size, \"pixel count:\", len(mpxs))\n",
        "print(\"first 5 pixels:\", mpxs[:5])\n",
        "\n",
        "display(mimg)"
      ]
    },
    {
      "cell_type": "markdown",
      "metadata": {},
      "source": [
        "### Reopen the flowers image (or some other image)\n",
        "\n",
        "Get a pixel list, but this time using the `get_Image()` and `get_pixels()` functions.\n",
        "\n",
        "Print the number of pixels and the first $5$ pixel values."
      ]
    },
    {
      "cell_type": "code",
      "execution_count": null,
      "metadata": {},
      "outputs": [],
      "source": [
        "# TODO: open image using get_Image() and get_pixels()"
      ]
    },
    {
      "cell_type": "markdown",
      "metadata": {},
      "source": [
        "## Processing pixels\n",
        "\n",
        "### Separating color channel\n",
        "\n",
        "We can create new images by changing the values of the pixels in our list.\n",
        "\n",
        "For example, if we want to separate the `red` component of our image, we can go through all of the pixel values and remove their `green` and `blue` components."
      ]
    },
    {
      "cell_type": "code",
      "execution_count": null,
      "metadata": {},
      "outputs": [],
      "source": [
        "mimg = get_Image(\"./data/hog.jpg\")\n",
        "mpxs = get_pixels(mimg)\n",
        "\n",
        "redpxs = []\n",
        "for r,g,b in mpxs:\n",
        "  redpxs.append((r, 0, 0))\n",
        "\n",
        "redimg = get_Image(redpxs, mimg.size[0], mimg.size[1])\n",
        "display(redimg)"
      ]
    },
    {
      "cell_type": "markdown",
      "metadata": {},
      "source": [
        "We could've also done the above using a one-line list comprehension expression:"
      ]
    },
    {
      "cell_type": "code",
      "execution_count": null,
      "metadata": {},
      "outputs": [],
      "source": [
        "redpxs = [(r, 0, 0) for r,g,b in mpxs]\n",
        "redimg = get_Image(redpxs, mimg.size[0], mimg.size[1])\n",
        "display(redimg)"
      ]
    },
    {
      "cell_type": "markdown",
      "metadata": {},
      "source": [
        "### Saving\n",
        "\n",
        "If we create something we want to keep, we can save an image to a file by calling the `.save()` function of an `Image` object."
      ]
    },
    {
      "cell_type": "code",
      "execution_count": null,
      "metadata": {},
      "outputs": [],
      "source": [
        "redimg.save(\"./data/redhog.jpg\")"
      ]
    },
    {
      "cell_type": "markdown",
      "metadata": {},
      "source": [
        "### Remove greens\n",
        "\n",
        "Go through the pixels and remove the green pixel values."
      ]
    },
    {
      "cell_type": "code",
      "execution_count": null,
      "metadata": {},
      "outputs": [],
      "source": [
        "# TODO: display an image with only the R and B channels"
      ]
    },
    {
      "cell_type": "markdown",
      "metadata": {},
      "source": [
        "### Saturate colors\n",
        "\n",
        "We can also saturate colors, by increasing the value of a chosen channel in every pixel."
      ]
    },
    {
      "cell_type": "code",
      "execution_count": null,
      "metadata": {},
      "outputs": [],
      "source": [
        "satpxs = []\n",
        "\n",
        "for r,g,b in mpxs:\n",
        "  # if the green channel is greater than the red and blue channels\n",
        "  if (g - r) > 16 and (g - b) > 16:\n",
        "    # make the green value 2 times larger\n",
        "    satpxs.append((r, 2 * g, b))\n",
        "  # else, keep original pixel values\n",
        "  else:\n",
        "    satpxs.append((r, g, b))\n",
        "\n",
        "satimg = get_Image(satpxs, mimg.size[0], mimg.size[1])\n",
        "\n",
        "display(mimg)\n",
        "display(satimg)"
      ]
    },
    {
      "cell_type": "markdown",
      "metadata": {},
      "source": [
        "### Exaggerate the yellows\n",
        "\n",
        "How can we exaggerate the yellow flowers instead ?\n",
        "\n",
        "We get yellow when the `red` and `green` values of our pixel are similar and much greater than the `blue` value.\n",
        "\n",
        "First thing we have to do is detect the yellow pixels, then exaggerate their `red` and `green` values."
      ]
    },
    {
      "cell_type": "code",
      "execution_count": null,
      "metadata": {},
      "outputs": [],
      "source": [
        "# TODO: exaggerate the yellows"
      ]
    },
    {
      "cell_type": "markdown",
      "metadata": {},
      "source": [
        "### RGB to grayscale\n",
        "\n",
        "We can also remove colors by making the pixel have a single value equal to the average of its original RGB values.\n",
        "\n",
        "$\\displaystyle average = \\frac{R + G + B}{3}$\n",
        "\n",
        "This is a good way to estimate the luminosity of each pixel: brighter pixels will be white and darker pixels will be black."
      ]
    },
    {
      "cell_type": "code",
      "execution_count": null,
      "metadata": {},
      "outputs": [],
      "source": [
        "gpxs = []\n",
        "\n",
        "for r,g,b in mpxs:\n",
        "  gval = (r + g + b) // 3\n",
        "  gpxs.append(gval)\n",
        "\n",
        "gimg = get_Image(gpxs, mimg.size[0], mimg.size[1])\n",
        "\n",
        "display(gimg)"
      ]
    },
    {
      "cell_type": "markdown",
      "metadata": {},
      "source": [
        "### RGB to grayscale to gradient\n",
        "\n",
        "We can change our original RGB image to have a gradient effect between two colors by first getting the luminosity of a pixel and using it to interpolate between two other colors."
      ]
    },
    {
      "cell_type": "code",
      "execution_count": null,
      "metadata": {},
      "outputs": [],
      "source": [
        "fadepxs = []\n",
        "\n",
        "for r,g,b in mpxs:\n",
        "  lval = (r + g + b) // 3\n",
        "  fadepxs.append((lval, 0, 255))\n",
        "\n",
        "fadeimg = get_Image(fadepxs, mimg.size[0], mimg.size[1])\n",
        "\n",
        "display(fadeimg)"
      ]
    },
    {
      "cell_type": "markdown",
      "metadata": {},
      "source": [
        "### Filtering by Color\n",
        "\n",
        "Let's say we're working on a vegetation detector and we want to be able to separate the pixels that represent plants and flowers from pixels that represent animals and other things.\n",
        "\n",
        "We can start by creating a filter to separate the green pixels from our original image.\n",
        "\n",
        "This is different than looking at the `green` color channel, or removing the `red` and `blue` channels, or exaggerating the green pixels.\n",
        "\n",
        "In order to filter pixels of a certain color we have to go through the pixels and measure how similar they are to the color we wish to separate.\n",
        "\n",
        "There are many ways to define \"similar\" when working with colors, but to keep it simple, let's define a `color_distance()` function that calculates the [Euclidean distance](https://en.wikipedia.org/wiki/Euclidean_distance) between two colors:\n",
        "\n",
        "$\\displaystyle dist = \\sqrt{\\left(R_0 - R_1\\right)^2 + \\left(G_0 - G_1\\right)^2 + \\left(B_0 - B_1\\right)^2}$"
      ]
    },
    {
      "cell_type": "code",
      "execution_count": null,
      "metadata": {},
      "outputs": [],
      "source": [
        "def color_distance(c0, c1):\n",
        "  return ((c0[0] - c1[0])**2 + (c0[1] - c1[1])**2 + (c0[2] - c1[2])**2) ** 0.5"
      ]
    },
    {
      "cell_type": "markdown",
      "metadata": {},
      "source": [
        "### Removing pixels\n",
        "\n",
        "Now that we have a function for measuring color similarity we can go through the pixels and remove the ones that are very different from the color we want to keep. We'll remove pixels by turning them black with RGB value (0, 0, 0)."
      ]
    },
    {
      "cell_type": "code",
      "execution_count": null,
      "metadata": {},
      "outputs": [],
      "source": [
        "filtpxs = []\n",
        "\n",
        "keep_color = (20, 180, 20)\n",
        "thold = 120\n",
        "\n",
        "for r,g,b in mpxs:\n",
        "  if color_distance((r, g, b), keep_color) < thold:\n",
        "    filtpxs.append((r, g, b))\n",
        "  else:\n",
        "    filtpxs.append((0, 0, 0))\n",
        "\n",
        "filtimg = get_Image(filtpxs, mimg.size[0], mimg.size[1])\n",
        "\n",
        "display(filtimg)"
      ]
    },
    {
      "cell_type": "markdown",
      "metadata": {},
      "source": [
        "### Filter other colors\n",
        "\n",
        "How can we filter the image to keep only the flowers? Or to keep only the hedgehog?\n",
        "\n",
        "It might help to define a `filter_pixels()` function here that takes a color to keep and a pixel array as inputs ..."
      ]
    },
    {
      "cell_type": "code",
      "execution_count": null,
      "metadata": {},
      "outputs": [],
      "source": [
        "# TODO: filter image to keep flowers then filter image to keep hedgehog\n",
        "\n",
        "def filter_pixels(imgpxs, keep_color, thold=150):\n",
        "  # TODO: fill this in\n",
        "  return []"
      ]
    },
    {
      "cell_type": "markdown",
      "metadata": {},
      "source": [
        "### Vegetation Filter\n",
        "\n",
        "Now, what we actually want is to separate the image into two images, one with the hedgehog and another with the vegetation.\n",
        "\n",
        "There are a couple of ways to achieve this.\n",
        "\n",
        "One way to get the vegetation pixels in this case is to remove the hedgehog from the original image. We can do this by first getting the hedgehog pixels and then subtracting them from the original image, pixel by pixel, component by component.\n",
        "\n",
        "We can use the `zip()` function to iterate through both pixel arrays at the same time and subtract their components."
      ]
    },
    {
      "cell_type": "code",
      "execution_count": null,
      "metadata": {},
      "outputs": [],
      "source": [
        "hog_pxs = filter_pixels(mpxs, (200,200,200), 200)\n",
        "\n",
        "veget_pxs = []\n",
        "for (r0,g0,b0), (r1,g1,b1) in zip(mpxs, hog_pxs):\n",
        "  veget_pxs.append((r0-r1, g0-g1, b0-b1))\n",
        "\n",
        "veget_img = get_Image(veget_pxs, mimg.size[0], mimg.size[1])\n",
        "\n",
        "display(veget_img)"
      ]
    },
    {
      "cell_type": "markdown",
      "metadata": {},
      "source": [
        "# 🤔\n",
        "\n",
        "This is ok.\n",
        "\n",
        "The other way to separate the vegetation is to filter the green pixels into an array, then filter the yellow pixels into another array, and then add them together, pixel by pixel, component by component.\n",
        "\n",
        "This works because we made the pixels we don't want black, or (0, 0, 0), so we can add green or yellow pixels to black without changing their color."
      ]
    },
    {
      "cell_type": "code",
      "execution_count": null,
      "metadata": {},
      "outputs": [],
      "source": [
        "# TODO: get a pixel array for the green pixels\n",
        "# TODO: get a pixel array for the yellow pixels\n",
        "\n",
        "# TODO: add green and yellow pixel arrays\n",
        "#       zip() can help"
      ]
    },
    {
      "cell_type": "markdown",
      "metadata": {},
      "source": [
        "# 🎉\n",
        "\n",
        "### Counting pixels by colors\n",
        "\n",
        "Now that we can separate pixels by color, we could use it to create an automatic deforestation sensor by separating and counting green pixels, and calculating the percentage of green areas on images.\n",
        "\n",
        "We could implement a separate function to count the number of non-black pixels in an image after it has been filtered, but since our `filter_pixels()` function above already goes through all of the pixels in an image and detects pixels of specific colors, we can just modify it to count those pixels and return the result along with the filtered pixel array.\n",
        "\n",
        "In Python it's easy to return multiple values from functions, we just have to separate them with a comma (`,`):\n",
        "\n",
        "```py\n",
        "def add_sub(A,B):\n",
        "  return A+B, A-B\n",
        "```\n",
        "\n",
        "And when we call our function we can automatically assign the multiple values to multiple variables also using a comma (`,`):\n",
        "\n",
        "```py\n",
        "msum, msub = add_sub(10, 6)\n",
        "```"
      ]
    },
    {
      "cell_type": "code",
      "execution_count": null,
      "metadata": {},
      "outputs": [],
      "source": [
        "# TODO: modify filter_pixels() function to return count of kept pixels\n",
        "\n",
        "def filter_pixels(imgpxs, keep_color, thold=150):\n",
        "  # TODO: fill this in\n",
        "  return [], 0"
      ]
    },
    {
      "cell_type": "markdown",
      "metadata": {},
      "source": [
        "We can try it out on a couple of forest images inside the `data/` directory."
      ]
    },
    {
      "cell_type": "code",
      "execution_count": null,
      "metadata": {},
      "outputs": [],
      "source": [
        "mimg = get_Image(\"./data/forest-00.jpg\")\n",
        "mpxs = get_pixels(mimg)\n",
        "display(mimg)\n",
        "\n",
        "fimg, fcnt = filter_pixels(mpxs, (0,200,0), 180)\n",
        "display(fimg)\n",
        "\n",
        "f\"green %: {round(100 * fcnt / len(mpxs), 3)}\""
      ]
    },
    {
      "cell_type": "markdown",
      "metadata": {},
      "source": [
        "### Try it out on some other images\n",
        "\n",
        "There are $6$ other aerial forest images in the `data/` directory. Run the green pixel count code on them and see if the results make sense."
      ]
    },
    {
      "cell_type": "code",
      "execution_count": null,
      "metadata": {},
      "outputs": [],
      "source": [
        "# TODO: count green pixels in forest images"
      ]
    },
    {
      "cell_type": "markdown",
      "metadata": {},
      "source": [
        "Once we start doing image analysis it's good to be able to extract different kinds of information from our images in casa we want to categorize them, filter them further or retrieve them from large databases later.\n",
        "\n",
        "This is equivalent to how we extracted amplitude and frequency features from audio files last time.\n",
        "\n",
        "### Dominant Channel\n",
        "\n",
        "One feature we can easily extract from our images is the average value of each of its channels along with the average luminosity value.\n",
        "\n",
        "This can be used to give us some idea about the dominant color or tones in an images."
      ]
    },
    {
      "cell_type": "code",
      "execution_count": null,
      "metadata": {},
      "outputs": [],
      "source": [
        "# array with 4 0s\n",
        "hog_rgbl_sum = [0 for _ in range(4)]\n",
        "\n",
        "for r,g,b in mpxs:\n",
        "  l = (r + g + b) // 3\n",
        "  hog_rgbl_sum[0] += r\n",
        "  hog_rgbl_sum[1] += g\n",
        "  hog_rgbl_sum[2] += b\n",
        "  hog_rgbl_sum[3] += l\n",
        "\n",
        "hog_rgbl_avg = [s // len(mpxs) for s in hog_rgbl_sum]\n",
        "\n",
        "hog_rgbl_avg"
      ]
    },
    {
      "cell_type": "markdown",
      "metadata": {},
      "source": [
        "We can see that both the `green` and `red` channels have average values above the average luminosity value.\n",
        "\n",
        "This makes sense since the image has a lot of green pixels, and the `red` channel contributes to the yellow and white pixels.\n",
        "\n",
        "### Repeat for other image\n",
        "\n",
        "Get the average value for each channel of a different image.\n",
        "\n",
        "Maybe create a function...\n",
        "\n",
        "Does the result make sense?"
      ]
    },
    {
      "cell_type": "code",
      "execution_count": null,
      "metadata": {},
      "outputs": [],
      "source": [
        "# TODO: get average channel value for other image\n",
        "\n",
        "def get_channel_avgs(pxs):\n",
        "  # TODO: fill this in\n",
        "  return []"
      ]
    },
    {
      "cell_type": "markdown",
      "metadata": {},
      "source": [
        "### Color Histograms\n",
        "\n",
        "Color histograms are another useful method of analyzing images and extracting information about their color.\n",
        "\n",
        "A histogram is just a concise way of seeing how many pixels have particular channel values. We'll go through an image's pixel array and count how many pixels have a $0$ for the `red` channel, how many have a $1$, a $2$, $3$, etc... and then we'll repeat this for the `green` and `blue` channels and for luminance.\n"
      ]
    },
    {
      "cell_type": "code",
      "execution_count": null,
      "metadata": {},
      "outputs": [],
      "source": [
        "# create 4 arrays (RGB + luminance) with 255 0s, one for each possible value a pixel component can have\n",
        "hog_hist_cnts = [[0 for _ in range(256)] for _ in range(4)]\n",
        "\n",
        "for r,g,b in mpxs:\n",
        "  l = (r + g + b) // 3\n",
        "  hog_hist_cnts[0][r] += 1\n",
        "  hog_hist_cnts[1][g] += 1\n",
        "  hog_hist_cnts[2][b] += 1\n",
        "  hog_hist_cnts[3][l] += 1"
      ]
    },
    {
      "cell_type": "code",
      "execution_count": null,
      "metadata": {},
      "outputs": [],
      "source": [
        "plt.plot(hog_hist_cnts[0], 'r')\n",
        "plt.plot(hog_hist_cnts[1], 'g')\n",
        "plt.plot(hog_hist_cnts[2], 'b')\n",
        "plt.plot(hog_hist_cnts[3], color='#aaa')\n",
        "plt.ylim((0, 10000))\n",
        "plt.show()"
      ]
    },
    {
      "cell_type": "markdown",
      "metadata": {},
      "source": [
        "### Get histogram for flower image\n",
        "\n",
        "Maybe create some functions ... that can be reused later..."
      ]
    },
    {
      "cell_type": "code",
      "execution_count": null,
      "metadata": {},
      "outputs": [],
      "source": [
        "# TODO: repeat process and draw histogram for flowers picture\n",
        "\n",
        "def get_hist_counts(pxs):\n",
        "  # TODO: fill this in\n",
        "  return []\n",
        "\n",
        "def plot_hist(rgbl_cnt, ylim=None):\n",
        "  # TODO: fill this in\n",
        "  plt.plot()"
      ]
    },
    {
      "cell_type": "markdown",
      "metadata": {},
      "source": [
        "### Comparing histograms\n",
        "\n",
        "Even though histograms can't by themselves tell us about the content of an image, comparing the most-frequent channel values in different images can tell us something about the images.\n",
        "\n",
        "Let's get the most frequent value of each channel.\n",
        "\n",
        "We'll do this by sorting `(value, count)` pairs by `count`.\n",
        "\n",
        "And, we can get `(value, count)` pairs for our lists by simplify using the `enumerate()` function since the `value` here is the same as the index for each list.\n",
        "\n",
        "Let's create a function to do this."
      ]
    },
    {
      "cell_type": "code",
      "execution_count": null,
      "metadata": {},
      "outputs": [],
      "source": [
        "def get_most_frequent(hist_counts):\n",
        "  # to sort by the second element of an array or tuple\n",
        "  def byCount(A):\n",
        "    return A[1]\n",
        "\n",
        "  # sort (value, count) pairs by count for each of the 4 histogram lists\n",
        "  sorted_rgbl_cnt = [sorted(enumerate(hl), key=byCount, reverse=True) for hl in hist_counts]\n",
        "\n",
        "  # grab the first element of the first (value, count) pair of each list\n",
        "  top_rgbl = [shl[0][0] for shl in sorted_rgbl_cnt]\n",
        "\n",
        "  return top_rgbl"
      ]
    },
    {
      "cell_type": "code",
      "execution_count": null,
      "metadata": {},
      "outputs": [],
      "source": [
        "get_most_frequent(hog_hist_cnts), get_most_frequent(flo_hist_cnts)"
      ]
    },
    {
      "cell_type": "markdown",
      "metadata": {},
      "source": [
        "# 🤔\n",
        "\n",
        "What this tells us is that the hedgehog image is generally darker (all channel values and luminance are less than $100$) and `green` is possibly the brightest channel.\n",
        "\n",
        "The flower picture is bright (luminance above $200$) and there are more bright `red` tones than any other tones.\n",
        "\n",
        "### Repeat with other images\n",
        "\n",
        "Plot histograms and get the average and most frequent channel values for $2$ other images."
      ]
    },
    {
      "cell_type": "code",
      "execution_count": null,
      "metadata": {},
      "outputs": [],
      "source": [
        "# TODO: repeat histogram for other images"
      ]
    },
    {
      "cell_type": "markdown",
      "metadata": {},
      "source": [
        "### Edge Detection\n",
        "\n",
        "We've looked at some techniques for getting color information from images, but images are more than just colors.\n",
        "\n",
        "We might be interested in also quantifying the shapes and textures present in our images.\n",
        "\n",
        "We can start by extracting the edges of shapes in our image. There are many ways of doing this, but the simplest way is to subtract our original image from a blurry version of it and threshold the result.\n",
        "\n",
        "Since we are not so concerned with color at this point we should work with grayscale images.\n",
        "\n",
        "Our overall algorithm will be something like:\n",
        "- open an image\n",
        "- make it black & white\n",
        "- blur it\n",
        "- subtract the blurry b&w pixels from the original b&w pixels\n",
        "- threshold the result\n",
        "\n",
        "Threshold means making slightly bright pixels really bright and all other pixels really dark.\n",
        "\n",
        "Let's do this in steps:\n",
        "\n",
        "#### Open an image and extract its pixels\n",
        "\n",
        "We can use `get_Image()` and `get_pixels()` to open and extract pixels, and `display()` to show the image."
      ]
    },
    {
      "cell_type": "code",
      "execution_count": null,
      "metadata": {},
      "outputs": [],
      "source": [
        "# TODO: implement edge extraction algorithm\n",
        "  # open an image and extract its pixels\n",
        "\n",
        "mimg = ''''''\n",
        "ipxs = ''''''\n",
        "\n",
        "display(mimg)"
      ]
    },
    {
      "cell_type": "markdown",
      "metadata": {},
      "source": [
        "#### Blur the image using `blur()`\n",
        "\n",
        "And display it.\n",
        "\n",
        "The `blur()` function takes an image object as a parameter and an optional second parameter that specifies the amount of blurring. It returns another image object.\n",
        "\n",
        "Experiment with the parameter a little bit, but the default value is good for extracting edges.\n",
        "\n",
        "Let's also get the pixels for the blurred image and display it with `display()`."
      ]
    },
    {
      "cell_type": "code",
      "execution_count": null,
      "metadata": {},
      "outputs": [],
      "source": [
        "# TODO: implement edge extraction algorithm\n",
        "  # blur image with the blur() function\n",
        "\n",
        "bimg = ''''''\n",
        "bpxs = ''''''\n",
        "\n",
        "display(bimg)"
      ]
    },
    {
      "cell_type": "markdown",
      "metadata": {},
      "source": [
        "#### Make the images grayscale\n",
        "\n",
        "We saw this a few cells back. We can average the `RGB` values to get a grey luminance value.\n",
        "\n",
        "Get grayscale versions of the original image and the blurry image\n",
        "\n",
        "Display the results."
      ]
    },
    {
      "cell_type": "code",
      "execution_count": null,
      "metadata": {},
      "outputs": [],
      "source": [
        "# TODO: implement edge extraction algorithm\n",
        "  # make the image b&w\n",
        "\n",
        "gipxs = ''''''\n",
        "gbpxs = ''''''\n",
        "\n",
        "gimg = get_Image(gipxs, mimg.size[0])\n",
        "gbimg = get_Image(gbpxs, mimg.size[0])\n",
        "\n",
        "display(gimg)\n",
        "display(gbimg)"
      ]
    },
    {
      "cell_type": "markdown",
      "metadata": {},
      "source": [
        "#### Subtract the blurred pixels from the original pixel values\n",
        "\n",
        "The `zip()` function might help iterate through the `gipxs` and `gbpxs` arrays at the same time.\n",
        "\n",
        "Display the resulting image."
      ]
    },
    {
      "cell_type": "code",
      "execution_count": null,
      "metadata": {},
      "outputs": [],
      "source": [
        "# TODO: implement edge extraction algorithm\n",
        "  # subtract blurry b&w image from original b&w image\n",
        "\n",
        "spxs = ''''''\n",
        "\n",
        "simg = get_Image(spxs, mimg.size[0])\n",
        "display(simg)"
      ]
    },
    {
      "cell_type": "markdown",
      "metadata": {},
      "source": [
        "#### Threshold the resulting pixel values\n",
        "\n",
        "We'll go through the array and check each pixel:<br>\n",
        "if its luminance is greater than a threshold value, we'll make it $255$, otherwise we'll make it $0$.\n",
        "\n",
        "We can start with a threshold value of $16$ and see what happens."
      ]
    },
    {
      "cell_type": "code",
      "execution_count": null,
      "metadata": {},
      "outputs": [],
      "source": [
        "# TODO: implement edge extraction algorithm\n",
        "  # threshold pixel values\n",
        "\n",
        "tpxs = ''''''\n",
        "\n",
        "timg = get_Image(tpxs, mimg.size[0])\n",
        "display(timg)"
      ]
    },
    {
      "cell_type": "markdown",
      "metadata": {},
      "source": [
        "Great !\n",
        "\n",
        "### Let's repeat it for a different image\n",
        "\n",
        "First, create a function that takes an image as a parameter and returns another image with edge information."
      ]
    },
    {
      "cell_type": "code",
      "execution_count": null,
      "metadata": {},
      "outputs": [],
      "source": [
        "# TODO: create edge extraction function\n",
        "\n",
        "def edge(img, rad=1, thold=16):\n",
        "  # TODO: fill this in\n",
        "  return get_Image([], img.size[0])"
      ]
    },
    {
      "cell_type": "markdown",
      "metadata": {},
      "source": [
        "### Count edges\n",
        "\n",
        "It helps to have a single value that we can use to compare edge information between images.\n",
        "\n",
        "Let's create a function that counts the number of white pixels in an edge-extraction image.\n",
        "\n",
        "We'll divide this number by the number of pixels in the image to get a rough idea of how _edgy_ any image is."
      ]
    },
    {
      "cell_type": "code",
      "execution_count": null,
      "metadata": {},
      "outputs": [],
      "source": [
        "def edge_ratio(img):\n",
        "  eimg = edge(img)\n",
        "  epxs = get_pixels(eimg)\n",
        "  sum255 = sum([1 for l in epxs if l == 255])\n",
        "  npxs = len(epxs)\n",
        "  return round(sum255 / npxs, 4)\n",
        "\n",
        "mimg = get_Image(\"./data/hog.jpg\")\n",
        "display(edge(mimg))\n",
        "edge_ratio(mimg)"
      ]
    },
    {
      "cell_type": "markdown",
      "metadata": {},
      "source": [
        "### Count edges for different images\n",
        "\n",
        "Do the results make sense? Why did we divide the sum by the total number of pixels?"
      ]
    },
    {
      "cell_type": "code",
      "execution_count": null,
      "metadata": {},
      "outputs": [],
      "source": [
        "# TODO: run the edge_ratio() function on a few images"
      ]
    }
  ],
  "metadata": {
    "colab": {
      "authorship_tag": "ABX9TyPxe2qYxIG7EblrvD1C4Pmv",
      "provenance": []
    },
    "kernelspec": {
      "display_name": "Python 3.9.17 ('hf-model')",
      "language": "python",
      "name": "python3"
    },
    "language_info": {
      "codemirror_mode": {
        "name": "ipython",
        "version": 3
      },
      "file_extension": ".py",
      "mimetype": "text/x-python",
      "name": "python",
      "nbconvert_exporter": "python",
      "pygments_lexer": "ipython3",
      "version": "3.10.13"
    },
    "vscode": {
      "interpreter": {
        "hash": "89e384cab7c47fb35ec95d2248b519cf922ee174880eed636c26cdfb6c4df768"
      }
    }
  },
  "nbformat": 4,
  "nbformat_minor": 0
}
